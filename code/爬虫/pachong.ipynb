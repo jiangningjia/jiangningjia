{
 "cells": [
  {
   "cell_type": "code",
   "execution_count": 1,
   "metadata": {},
   "outputs": [],
   "source": [
    "from bs4 import BeautifulSoup\n",
    "import urllib\n",
    "import urllib.request\n",
    "from urllib.request import urlopen\n",
    "from urllib.parse import urljoin, urlparse\n",
    "import re\n",
    "def is_target_row(tag):\n",
    "    return tag.name == 'tr' and len(tag.find_all('td')) == 2 or len(tag.find_all('td')) == 3\n",
    "gene_html = []\n",
    "gene_symble_fuction = []\n",
    "gene_LOC = []\n",
    "for i in range(1, 9, 1):\n",
    "    url = \"https://ricedata.cn/ontology/ontolists.aspx?p={}&db=gene&ta=GO:0009733\".format(i)\n",
    "    htmlopen = urlopen(url)\n",
    "    soup = BeautifulSoup(htmlopen, 'html.parser')\n",
    "    target_rows = soup.find_all(is_target_row)\n",
    "    for row in target_rows:\n",
    "        gene_symble = row.find_all('td')[0].string\n",
    "        gene_function = row.find_all('td')[1].string\n",
    "        html_father = row.find_all('td')[0]\n",
    "        html_self = html_father.find('a')\n",
    "        gene_html.append(\"https://ricedata.cn/\" + html_self['href'])\n",
    "        gene_symble_fuction.append(gene_symble + \": \" + gene_function)\n",
    "for data in gene_html:\n",
    "    ori_url = data\n",
    "    url = urljoin(ori_url, urlparse(ori_url).path)\n",
    "    htmlopen = urlopen(url)\n",
    "    soup = BeautifulSoup(htmlopen, 'html.parser')\n",
    "    local_link = soup.find_all('a', string=\"±¾µØ\")# \"±¾µØ\"是汉语的“本地”\n",
    "    if local_link:\n",
    "        ori_string = local_link[0]['href']\n",
    "        LOC = ori_string.split('=')[-1]\n",
    "        gene_LOC.append(LOC)\n",
    "    else:\n",
    "        gene_LOC.append(\"None\")\n",
    "with open('Result.JNJ', 'w') as file:\n",
    "    for i in range(0,len(gene_LOC),1):\n",
    "        file.write(gene_symble_fuction[i] + \": \" + gene_LOC[i] + \"\\n\")"
   ]
  },
  {
   "cell_type": "code",
   "execution_count": 20,
   "metadata": {},
   "outputs": [],
   "source": [
    "\n",
    "\n"
   ]
  }
 ],
 "metadata": {
  "kernelspec": {
   "display_name": "base",
   "language": "python",
   "name": "python3"
  },
  "language_info": {
   "codemirror_mode": {
    "name": "ipython",
    "version": 3
   },
   "file_extension": ".py",
   "mimetype": "text/x-python",
   "name": "python",
   "nbconvert_exporter": "python",
   "pygments_lexer": "ipython3",
   "version": "3.11.5"
  }
 },
 "nbformat": 4,
 "nbformat_minor": 2
}
